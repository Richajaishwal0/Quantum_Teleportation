{
  "nbformat": 4,
  "nbformat_minor": 0,
  "metadata": {
    "colab": {
      "provenance": []
    },
    "kernelspec": {
      "name": "python3",
      "display_name": "Python 3"
    },
    "language_info": {
      "name": "python"
    }
  },
  "cells": [
    {
      "cell_type": "code",
      "execution_count": null,
      "metadata": {
        "id": "1ayCrk4_Ff6C"
      },
      "outputs": [],
      "source": [
        "# !pip install qiskit\n"
      ]
    },
    {
      "cell_type": "code",
      "source": [
        "# ✅ Quantum Teleportation Simulation (Final Clean Version)\n",
        "# Works perfectly in Google Colab with Qiskit 1.x\n",
        "\n",
        "!pip install qiskit qiskit-aer pylatexenc --quiet\n",
        "\n",
        "from qiskit import QuantumCircuit, transpile\n",
        "from qiskit_aer import AerSimulator\n",
        "from qiskit.visualization import plot_histogram, plot_bloch_multivector\n",
        "from qiskit.quantum_info import Statevector, partial_trace, DensityMatrix\n",
        "import matplotlib.pyplot as plt\n",
        "import os, importlib\n",
        "\n",
        "# Ensure pylatexenc loads cleanly\n",
        "importlib.invalidate_caches()\n",
        "os.environ[\"PYLATEXENC_LATEX_RUN\"] = \"0\"\n",
        "\n",
        "# ─────────────────────────────────────────────\n",
        "# Step 1 – Build Quantum Teleportation Circuit\n",
        "# ─────────────────────────────────────────────\n",
        "qc = QuantumCircuit(3, 2)\n",
        "\n",
        "# Prepare arbitrary state to teleport (Alice’s qubit)\n",
        "qc.h(0)\n",
        "qc.t(0)\n",
        "qc.barrier()\n",
        "\n",
        "# Create entanglement (Bell pair between Alice & Bob)\n",
        "qc.h(1)\n",
        "qc.cx(1, 2)\n",
        "qc.barrier()\n",
        "\n",
        "# Alice’s Bell measurement\n",
        "qc.cx(0, 1)\n",
        "qc.h(0)\n",
        "qc.barrier()\n",
        "\n",
        "# Measure Alice’s qubits → classical bits\n",
        "qc.measure([0, 1], [0, 1])\n",
        "qc.barrier()\n",
        "\n",
        "# Bob’s correction based on classical bits\n",
        "qc.cx(1, 2)\n",
        "qc.cz(0, 2)\n",
        "\n",
        "# Draw circuit (safe fallback)\n",
        "try:\n",
        "    qc.draw(\"mpl\")\n",
        "    plt.show()\n",
        "except Exception:\n",
        "    print(qc.draw(\"text\"))\n",
        "\n",
        "# ─────────────────────────────────────────────\n",
        "# Step 2 – Simulate Teleportation\n",
        "# ─────────────────────────────────────────────\n",
        "sim = AerSimulator()\n",
        "tqc = transpile(qc, sim)\n",
        "\n",
        "# Run simulation\n",
        "result = sim.run(tqc, shots=1024).result()\n",
        "counts = result.get_counts()\n",
        "\n",
        "plot_histogram(counts)\n",
        "plt.title(\"Measurement Outcomes (Alice → Bob Classical Bits)\")\n",
        "plt.show()\n",
        "\n",
        "# ─────────────────────────────────────────────\n",
        "# Step 3 – Verify Bob’s Qubit State\n",
        "# ─────────────────────────────────────────────\n",
        "# Create pure quantum circuit (no measurements)\n",
        "qc_pure = QuantumCircuit(3)\n",
        "qc_pure.h(0)\n",
        "qc_pure.t(0)\n",
        "qc_pure.h(1)\n",
        "qc_pure.cx(1, 2)\n",
        "qc_pure.cx(0, 1)\n",
        "qc_pure.h(0)\n",
        "qc_pure.cx(1, 2)\n",
        "qc_pure.cz(0, 2)\n",
        "\n",
        "# Compute final statevector\n",
        "final_state = Statevector.from_instruction(qc_pure)\n",
        "\n",
        "# Extract Bob’s qubit (index 2)\n",
        "bob_density = partial_trace(final_state, [0, 1])\n",
        "bob_state = DensityMatrix(bob_density)\n",
        "\n",
        "# Plot Bloch sphere\n",
        "plot_bloch_multivector(bob_state)\n",
        "plt.title(\"Bob’s Qubit After Teleportation (Teleported State)\")\n",
        "plt.show()\n",
        "\n",
        "# Optional: print Bob’s teleported state\n",
        "print(\"Bob’s teleported density matrix:\\n\", bob_state.data)\n"
      ],
      "metadata": {
        "colab": {
          "base_uri": "https://localhost:8080/"
        },
        "id": "9_XdWzltJD7w",
        "outputId": "ed9eb9eb-ee6c-4b82-9136-4102b7bf4ed2"
      },
      "execution_count": null,
      "outputs": [
        {
          "output_type": "stream",
          "name": "stdout",
          "text": [
            "     ┌───┐┌───┐ ░            ░      ┌───┐ ░ ┌─┐    ░         \n",
            "q_0: ┤ H ├┤ T ├─░────────────░───■──┤ H ├─░─┤M├────░───────■─\n",
            "     └───┘└───┘ ░ ┌───┐      ░ ┌─┴─┐└───┘ ░ └╥┘┌─┐ ░       │ \n",
            "q_1: ───────────░─┤ H ├──■───░─┤ X ├──────░──╫─┤M├─░───■───┼─\n",
            "                ░ └───┘┌─┴─┐ ░ └───┘      ░  ║ └╥┘ ░ ┌─┴─┐ │ \n",
            "q_2: ───────────░──────┤ X ├─░────────────░──╫──╫──░─┤ X ├─■─\n",
            "                ░      └───┘ ░            ░  ║  ║  ░ └───┘   \n",
            "c: 2/════════════════════════════════════════╩══╩════════════\n",
            "                                             0  1            \n",
            "Bob’s teleported density matrix:\n",
            " [[0.5       +0.j         0.35355339-0.35355339j]\n",
            " [0.35355339+0.35355339j 0.5       +0.j        ]]\n"
          ]
        }
      ]
    },
    {
      "cell_type": "code",
      "source": [
        "# Quantum Teleportation – Final Colab-Friendly Version\n",
        "!pip install qiskit qiskit-aer pylatexenc --quiet\n",
        "\n",
        "import matplotlib\n",
        "matplotlib.use(\"Agg\")          # safer static backend\n",
        "import matplotlib.pyplot as plt\n",
        "from qiskit import QuantumCircuit, transpile\n",
        "from qiskit_aer import AerSimulator\n",
        "from qiskit.visualization import plot_histogram, plot_bloch_vector\n",
        "from qiskit.quantum_info import Statevector, partial_trace, DensityMatrix\n",
        "import numpy as np\n",
        "\n",
        "# ─── Step 1 – Build teleportation circuit ─────────────────────\n",
        "qc = QuantumCircuit(3, 2)\n",
        "qc.h(0); qc.t(0)               # |ψ⟩ to teleport\n",
        "qc.barrier()\n",
        "qc.h(1); qc.cx(1, 2)           # entangle Alice-Bob\n",
        "qc.barrier()\n",
        "qc.cx(0, 1); qc.h(0)\n",
        "qc.barrier()\n",
        "qc.measure([0,1],[0,1])\n",
        "qc.barrier()\n",
        "qc.cx(1,2); qc.cz(0,2)\n",
        "display(qc.draw(\"text\"))       # text mode always works\n",
        "\n",
        "# ─── Step 2 – Simulate ─────────────────────────────────────────\n",
        "sim = AerSimulator()\n",
        "tqc = transpile(qc, sim)\n",
        "result = sim.run(tqc, shots=1024).result()\n",
        "counts = result.get_counts()\n",
        "print(\"\\nMeasurement counts:\", counts)\n",
        "plt.figure()\n",
        "plot_histogram(counts)\n",
        "plt.title(\"Alice’s Measurement Outcomes\")\n",
        "plt.show()\n",
        "\n",
        "# ─── Step 3 – Verify Bob’s qubit ───────────────────────────────\n",
        "qc_pure = QuantumCircuit(3)\n",
        "qc_pure.h(0); qc_pure.t(0)\n",
        "qc_pure.h(1); qc_pure.cx(1,2)\n",
        "qc_pure.cx(0,1); qc_pure.h(0)\n",
        "qc_pure.cx(1,2); qc_pure.cz(0,2)\n",
        "\n",
        "final_state = Statevector.from_instruction(qc_pure)\n",
        "bob_density = partial_trace(final_state, [0,1])\n",
        "bob_state = DensityMatrix(bob_density)\n",
        "\n",
        "# Convert Bob’s state to Bloch-vector coordinates\n",
        "bloch = [2*np.real(bob_state.data[0,1]),\n",
        "         2*np.imag(bob_state.data[1,0]),\n",
        "         np.real(bob_state.data[0,0]-bob_state.data[1,1])]\n",
        "print(\"\\nBloch-vector components (x,y,z):\", np.round(bloch,3))\n",
        "\n",
        "plt.figure()\n",
        "plot_bloch_vector(bloch)\n",
        "plt.title(\"Bob’s Qubit After Teleportation\")\n",
        "plt.show()\n"
      ],
      "metadata": {
        "id": "4A2xoUosNx04",
        "colab": {
          "base_uri": "https://localhost:8080/",
          "height": 229
        },
        "outputId": "1285cd0f-3935-4701-bbfa-63d51df74421"
      },
      "execution_count": null,
      "outputs": [
        {
          "output_type": "display_data",
          "data": {
            "text/plain": [
              "     ┌───┐┌───┐ ░            ░      ┌───┐ ░ ┌─┐    ░         \n",
              "q_0: ┤ H ├┤ T ├─░────────────░───■──┤ H ├─░─┤M├────░───────■─\n",
              "     └───┘└───┘ ░ ┌───┐      ░ ┌─┴─┐└───┘ ░ └╥┘┌─┐ ░       │ \n",
              "q_1: ───────────░─┤ H ├──■───░─┤ X ├──────░──╫─┤M├─░───■───┼─\n",
              "                ░ └───┘┌─┴─┐ ░ └───┘      ░  ║ └╥┘ ░ ┌─┴─┐ │ \n",
              "q_2: ───────────░──────┤ X ├─░────────────░──╫──╫──░─┤ X ├─■─\n",
              "                ░      └───┘ ░            ░  ║  ║  ░ └───┘   \n",
              "c: 2/════════════════════════════════════════╩══╩════════════\n",
              "                                             0  1            "
            ],
            "text/html": [
              "<pre style=\"word-wrap: normal;white-space: pre;background: #fff0;line-height: 1.1;font-family: &quot;Courier New&quot;,Courier,monospace\">     ┌───┐┌───┐ ░            ░      ┌───┐ ░ ┌─┐    ░         \n",
              "q_0: ┤ H ├┤ T ├─░────────────░───■──┤ H ├─░─┤M├────░───────■─\n",
              "     └───┘└───┘ ░ ┌───┐      ░ ┌─┴─┐└───┘ ░ └╥┘┌─┐ ░       │ \n",
              "q_1: ───────────░─┤ H ├──■───░─┤ X ├──────░──╫─┤M├─░───■───┼─\n",
              "                ░ └───┘┌─┴─┐ ░ └───┘      ░  ║ └╥┘ ░ ┌─┴─┐ │ \n",
              "q_2: ───────────░──────┤ X ├─░────────────░──╫──╫──░─┤ X ├─■─\n",
              "                ░      └───┘ ░            ░  ║  ║  ░ └───┘   \n",
              "c: 2/════════════════════════════════════════╩══╩════════════\n",
              "                                             0  1            </pre>"
            ]
          },
          "metadata": {}
        },
        {
          "output_type": "stream",
          "name": "stdout",
          "text": [
            "\n",
            "Measurement counts: {'01': 247, '00': 249, '10': 277, '11': 251}\n",
            "\n",
            "Bloch-vector components (x,y,z): [0.707 0.707 0.   ]\n"
          ]
        }
      ]
    },
    {
      "cell_type": "code",
      "source": [],
      "metadata": {
        "id": "6lwhnrtERfkp"
      },
      "execution_count": null,
      "outputs": []
    }
  ]
}